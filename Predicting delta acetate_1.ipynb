{
 "cells": [
  {
   "cell_type": "code",
   "execution_count": 24,
   "id": "06c04cdb",
   "metadata": {},
   "outputs": [],
   "source": [
    "import pandas as pd\n",
    "import matplotlib.pyplot as plt\n",
    "import seaborn as sns\n",
    "from sklearn.model_selection import train_test_split\n",
    "from sklearn.preprocessing import StandardScaler\n",
    "from sklearn.model_selection import StratifiedKFold\n",
    "from sklearn.model_selection import cross_validate\n",
    "from sklearn.linear_model import LogisticRegression\n",
    "from sklearn import metrics\n",
    "from sklearn.metrics import classification_report\n",
    "from sklearn.metrics import confusion_matrix\n",
    "plt.rcParams[\"font.family\"] = \"arial\""
   ]
  },
  {
   "cell_type": "code",
   "execution_count": 8,
   "id": "b91a9913",
   "metadata": {
    "scrolled": true
   },
   "outputs": [
    {
     "name": "stdout",
     "output_type": "stream",
     "text": [
      "<class 'pandas.core.frame.DataFrame'>\n",
      "RangeIndex: 137 entries, 0 to 136\n",
      "Data columns (total 9 columns):\n",
      " #   Column            Non-Null Count  Dtype  \n",
      "---  ------            --------------  -----  \n",
      " 0   code              137 non-null    object \n",
      " 1   start_OD          137 non-null    float64\n",
      " 2   glycerol_start    137 non-null    float64\n",
      " 3   propanoate_start  137 non-null    float64\n",
      " 4   acetate_start     137 non-null    float64\n",
      " 5   ethanol_start     122 non-null    float64\n",
      " 6   end_OD            137 non-null    float64\n",
      " 7   propanoate_end    137 non-null    float64\n",
      " 8   acetate_end       137 non-null    float64\n",
      "dtypes: float64(8), object(1)\n",
      "memory usage: 9.8+ KB\n"
     ]
    }
   ],
   "source": [
    "# import data\n",
    "src = pd.ExcelFile(r'20241210 Wide OD, GC, NMR data.xlsx')\n",
    "df = pd.read_excel(src, '20241210')\n",
    "\n",
    "df.info()"
   ]
  },
  {
   "cell_type": "code",
   "execution_count": 9,
   "id": "f5dbb36c",
   "metadata": {},
   "outputs": [
    {
     "data": {
      "text/html": [
       "<div>\n",
       "<style scoped>\n",
       "    .dataframe tbody tr th:only-of-type {\n",
       "        vertical-align: middle;\n",
       "    }\n",
       "\n",
       "    .dataframe tbody tr th {\n",
       "        vertical-align: top;\n",
       "    }\n",
       "\n",
       "    .dataframe thead th {\n",
       "        text-align: right;\n",
       "    }\n",
       "</style>\n",
       "<table border=\"1\" class=\"dataframe\">\n",
       "  <thead>\n",
       "    <tr style=\"text-align: right;\">\n",
       "      <th></th>\n",
       "      <th>code</th>\n",
       "      <th>start_OD</th>\n",
       "      <th>glycerol_start</th>\n",
       "      <th>propanoate_start</th>\n",
       "      <th>acetate_start</th>\n",
       "      <th>ethanol_start</th>\n",
       "      <th>end_OD</th>\n",
       "      <th>propanoate_end</th>\n",
       "      <th>acetate_end</th>\n",
       "    </tr>\n",
       "  </thead>\n",
       "  <tbody>\n",
       "    <tr>\n",
       "      <th>0</th>\n",
       "      <td>207-1.1</td>\n",
       "      <td>0.1304</td>\n",
       "      <td>0.00000</td>\n",
       "      <td>0.0</td>\n",
       "      <td>0.041074</td>\n",
       "      <td>0.000000</td>\n",
       "      <td>0.3196</td>\n",
       "      <td>0.000000</td>\n",
       "      <td>33.733964</td>\n",
       "    </tr>\n",
       "    <tr>\n",
       "      <th>1</th>\n",
       "      <td>207-1.2</td>\n",
       "      <td>0.1294</td>\n",
       "      <td>0.00000</td>\n",
       "      <td>0.0</td>\n",
       "      <td>0.027743</td>\n",
       "      <td>0.000000</td>\n",
       "      <td>0.3017</td>\n",
       "      <td>0.000000</td>\n",
       "      <td>25.910399</td>\n",
       "    </tr>\n",
       "    <tr>\n",
       "      <th>2</th>\n",
       "      <td>207-1.3</td>\n",
       "      <td>0.1269</td>\n",
       "      <td>0.00000</td>\n",
       "      <td>0.0</td>\n",
       "      <td>0.031323</td>\n",
       "      <td>0.000000</td>\n",
       "      <td>0.2556</td>\n",
       "      <td>0.000000</td>\n",
       "      <td>33.547364</td>\n",
       "    </tr>\n",
       "    <tr>\n",
       "      <th>3</th>\n",
       "      <td>207-2.1</td>\n",
       "      <td>0.1258</td>\n",
       "      <td>0.00000</td>\n",
       "      <td>0.0</td>\n",
       "      <td>0.054683</td>\n",
       "      <td>0.000000</td>\n",
       "      <td>0.3875</td>\n",
       "      <td>0.000000</td>\n",
       "      <td>27.706751</td>\n",
       "    </tr>\n",
       "    <tr>\n",
       "      <th>4</th>\n",
       "      <td>207-2.2</td>\n",
       "      <td>0.1118</td>\n",
       "      <td>0.00000</td>\n",
       "      <td>0.0</td>\n",
       "      <td>0.026052</td>\n",
       "      <td>0.000000</td>\n",
       "      <td>0.2951</td>\n",
       "      <td>0.000000</td>\n",
       "      <td>30.133015</td>\n",
       "    </tr>\n",
       "    <tr>\n",
       "      <th>...</th>\n",
       "      <td>...</td>\n",
       "      <td>...</td>\n",
       "      <td>...</td>\n",
       "      <td>...</td>\n",
       "      <td>...</td>\n",
       "      <td>...</td>\n",
       "      <td>...</td>\n",
       "      <td>...</td>\n",
       "      <td>...</td>\n",
       "    </tr>\n",
       "    <tr>\n",
       "      <th>132</th>\n",
       "      <td>290-1.2</td>\n",
       "      <td>0.0839</td>\n",
       "      <td>4.02706</td>\n",
       "      <td>0.0</td>\n",
       "      <td>2.414326</td>\n",
       "      <td>0.300311</td>\n",
       "      <td>0.6823</td>\n",
       "      <td>1.223993</td>\n",
       "      <td>37.402965</td>\n",
       "    </tr>\n",
       "    <tr>\n",
       "      <th>133</th>\n",
       "      <td>290-1.3</td>\n",
       "      <td>0.0832</td>\n",
       "      <td>3.98849</td>\n",
       "      <td>0.0</td>\n",
       "      <td>2.453784</td>\n",
       "      <td>0.297359</td>\n",
       "      <td>0.3368</td>\n",
       "      <td>1.602649</td>\n",
       "      <td>12.053561</td>\n",
       "    </tr>\n",
       "    <tr>\n",
       "      <th>134</th>\n",
       "      <td>294-1.1</td>\n",
       "      <td>0.0778</td>\n",
       "      <td>0.00000</td>\n",
       "      <td>0.0</td>\n",
       "      <td>1.829625</td>\n",
       "      <td>0.500234</td>\n",
       "      <td>0.3367</td>\n",
       "      <td>0.605349</td>\n",
       "      <td>30.178702</td>\n",
       "    </tr>\n",
       "    <tr>\n",
       "      <th>135</th>\n",
       "      <td>294-1.2</td>\n",
       "      <td>0.0786</td>\n",
       "      <td>0.00000</td>\n",
       "      <td>0.0</td>\n",
       "      <td>1.741903</td>\n",
       "      <td>0.431771</td>\n",
       "      <td>0.2165</td>\n",
       "      <td>0.652406</td>\n",
       "      <td>18.566423</td>\n",
       "    </tr>\n",
       "    <tr>\n",
       "      <th>136</th>\n",
       "      <td>294-1.3</td>\n",
       "      <td>0.0798</td>\n",
       "      <td>0.00000</td>\n",
       "      <td>0.0</td>\n",
       "      <td>1.715130</td>\n",
       "      <td>0.403343</td>\n",
       "      <td>0.5040</td>\n",
       "      <td>0.558539</td>\n",
       "      <td>51.185047</td>\n",
       "    </tr>\n",
       "  </tbody>\n",
       "</table>\n",
       "<p>137 rows × 9 columns</p>\n",
       "</div>"
      ],
      "text/plain": [
       "        code  start_OD  glycerol_start  propanoate_start  acetate_start  \\\n",
       "0    207-1.1    0.1304         0.00000               0.0       0.041074   \n",
       "1    207-1.2    0.1294         0.00000               0.0       0.027743   \n",
       "2    207-1.3    0.1269         0.00000               0.0       0.031323   \n",
       "3    207-2.1    0.1258         0.00000               0.0       0.054683   \n",
       "4    207-2.2    0.1118         0.00000               0.0       0.026052   \n",
       "..       ...       ...             ...               ...            ...   \n",
       "132  290-1.2    0.0839         4.02706               0.0       2.414326   \n",
       "133  290-1.3    0.0832         3.98849               0.0       2.453784   \n",
       "134  294-1.1    0.0778         0.00000               0.0       1.829625   \n",
       "135  294-1.2    0.0786         0.00000               0.0       1.741903   \n",
       "136  294-1.3    0.0798         0.00000               0.0       1.715130   \n",
       "\n",
       "     ethanol_start  end_OD  propanoate_end  acetate_end  \n",
       "0         0.000000  0.3196        0.000000    33.733964  \n",
       "1         0.000000  0.3017        0.000000    25.910399  \n",
       "2         0.000000  0.2556        0.000000    33.547364  \n",
       "3         0.000000  0.3875        0.000000    27.706751  \n",
       "4         0.000000  0.2951        0.000000    30.133015  \n",
       "..             ...     ...             ...          ...  \n",
       "132       0.300311  0.6823        1.223993    37.402965  \n",
       "133       0.297359  0.3368        1.602649    12.053561  \n",
       "134       0.500234  0.3367        0.605349    30.178702  \n",
       "135       0.431771  0.2165        0.652406    18.566423  \n",
       "136       0.403343  0.5040        0.558539    51.185047  \n",
       "\n",
       "[137 rows x 9 columns]"
      ]
     },
     "execution_count": 9,
     "metadata": {},
     "output_type": "execute_result"
    }
   ],
   "source": [
    "df = df.fillna(0)\n",
    "df"
   ]
  },
  {
   "cell_type": "code",
   "execution_count": 10,
   "id": "6598072b-a84e-4272-a0c9-9414e409efe7",
   "metadata": {},
   "outputs": [
    {
     "data": {
      "image/png": "[encoded data removed]",
      "text/plain": [
       "<Figure size 640x480 with 1 Axes>"
      ]
     },
     "metadata": {},
     "output_type": "display_data"
    }
   ],
   "source": [
    "# drop unneccesary columns\n",
    "columns_to_drop = ['code']\n",
    "df.drop(axis=1, columns=columns_to_drop, inplace=True)\n",
    "\n",
    "# calculate delat_acetate, this is the target variable\n",
    "df['delta_acetate'] = df['acetate_end'] - df['acetate_start']\n",
    "\n",
    "# plot violin plot to see distribution of delta_acetate\n",
    "fig1 = sns.histplot(y='delta_acetate', data=df, bins=20);"
   ]
  },
  {
   "cell_type": "code",
   "execution_count": 11,
   "id": "4e2825cf",
   "metadata": {},
   "outputs": [
    {
     "data": {
      "text/plain": [
       "count    137.000000\n",
       "mean      10.136344\n",
       "std       14.547567\n",
       "min       -0.115981\n",
       "25%        0.084083\n",
       "50%        0.225993\n",
       "75%       25.403994\n",
       "max       53.165071\n",
       "Name: delta_acetate, dtype: float64"
      ]
     },
     "execution_count": 11,
     "metadata": {},
     "output_type": "execute_result"
    }
   ],
   "source": [
    "df['delta_acetate'].describe()"
   ]
  },
  {
   "cell_type": "code",
   "execution_count": 12,
   "id": "86a55476",
   "metadata": {},
   "outputs": [
    {
     "data": {
      "text/plain": [
       "delta_acetate\n",
       "Low     90\n",
       "High    47\n",
       "Name: count, dtype: int64"
      ]
     },
     "execution_count": 12,
     "metadata": {},
     "output_type": "execute_result"
    }
   ],
   "source": [
    "# create two categories for acetate\n",
    "# assign high to delta_acetate above mean, and low to delta_acetate below mean\n",
    "# set min_1 to the minimum value minus 1 to include the minimum value in the cut\n",
    "min_1 = df['delta_acetate'].min() - 1\n",
    "y = pd.cut(df['delta_acetate'],\n",
    "                          bins=[min_1, df['delta_acetate'].mean(), df['delta_acetate'].max()],\n",
    "                          labels=[ \"Low\", \"High\"]) \n",
    "y.value_counts()"
   ]
  },
  {
   "cell_type": "code",
   "execution_count": 13,
   "id": "6d9b62d6",
   "metadata": {},
   "outputs": [
    {
     "name": "stderr",
     "output_type": "stream",
     "text": [
      "<>:4: SyntaxWarning: invalid escape sequence '\\D'\n",
      "<>:4: SyntaxWarning: invalid escape sequence '\\D'\n",
      "C:\\Users\\mims3\\AppData\\Local\\Temp\\ipykernel_1684\\2225276312.py:4: SyntaxWarning: invalid escape sequence '\\D'\n",
      "  ax.set_xlabel('$\\Delta$[AcO$^-$] (mM)', fontsize=14)\n"
     ]
    },
    {
     "data": {
      "image/png": "[encoded data removed]",
      "text/plain": [
       "<Figure size 400x400 with 1 Axes>"
      ]
     },
     "metadata": {},
     "output_type": "display_data"
    }
   ],
   "source": [
    "plt.figure(figsize=(4,4), linewidth=2)\n",
    "ax = sns.kdeplot(data=df, x='delta_acetate', hue=y, fill=True,\n",
    "                 palette='flare', linewidth=2)\n",
    "ax.set_xlabel('$\\Delta$[AcO$^-$] (mM)', fontsize=14)\n",
    "ax.set_ylabel('Density', fontsize=14)\n",
    "ax.tick_params(axis='x', width=2, labelsize=14, length=5)\n",
    "ax.tick_params(axis='y', direction='out', width=2, labelsize=14, length=5, right=False)\n",
    "\n",
    "#Set axis linewidths\n",
    "for axis in ['top','bottom','left','right']:\n",
    "    ax.spines[axis].set_linewidth(2)"
   ]
  },
  {
   "cell_type": "code",
   "execution_count": 14,
   "id": "3f780b9c",
   "metadata": {},
   "outputs": [],
   "source": [
    "# create a dataframe containing only the start data\n",
    "start_columns = []\n",
    "\n",
    "for col in df.columns.to_list():\n",
    "    if 'start' in col:\n",
    "        start_columns.append(col)\n",
    "\n",
    "X = df[start_columns]"
   ]
  },
  {
   "cell_type": "code",
   "execution_count": 15,
   "id": "ab1dfd84",
   "metadata": {},
   "outputs": [
    {
     "data": {
      "text/plain": [
       "<Axes: >"
      ]
     },
     "execution_count": 15,
     "metadata": {},
     "output_type": "execute_result"
    },
    {
     "data": {
      "image/png": "[encoded data removed]",
      "text/plain": [
       "<Figure size 640x480 with 2 Axes>"
      ]
     },
     "metadata": {},
     "output_type": "display_data"
    }
   ],
   "source": [
    "df_corr = X.copy()\n",
    "df_corr['delta_acetate'] = df['delta_acetate']\n",
    "cmatrix = df_corr.corr()\n",
    "sns.heatmap(cmatrix, cmap='flare', square=True)"
   ]
  },
  {
   "cell_type": "code",
   "execution_count": 16,
   "id": "b9cdc391",
   "metadata": {},
   "outputs": [],
   "source": [
    "# standardise the data for mean=0 and variance=1\n",
    "scaler = StandardScaler()\n",
    "scaler.fit_transform(X);"
   ]
  },
  {
   "cell_type": "code",
   "execution_count": 17,
   "id": "e93d73c0",
   "metadata": {},
   "outputs": [
    {
     "data": {
      "text/plain": [
       "fit_time          0.018365\n",
       "score_time        0.017971\n",
       "test_accuracy     0.816667\n",
       "test_precision    0.823814\n",
       "test_recall       0.850000\n",
       "test_f1           0.810889\n",
       "dtype: float64"
      ]
     },
     "execution_count": 17,
     "metadata": {},
     "output_type": "execute_result"
    }
   ],
   "source": [
    "# cross validation\n",
    "model = LogisticRegression(class_weight='balanced')\n",
    "cv = StratifiedKFold(n_splits=5, shuffle=True)\n",
    "metrics = {'accuracy': 'accuracy','precision': 'precision_macro', 'recall': 'recall_macro', 'f1': 'f1_macro'}\n",
    "scores = cross_validate(model, X, y, cv=cv, scoring=metrics)\n",
    "scores_df = pd.DataFrame(scores)\n",
    "scores_df.mean()"
   ]
  },
  {
   "cell_type": "code",
   "execution_count": 18,
   "id": "bc0a8d85",
   "metadata": {},
   "outputs": [
    {
     "name": "stdout",
     "output_type": "stream",
     "text": [
      "Accuracy score on training data: 0.78\n",
      "Accuracy score on test data: 0.79\n"
     ]
    }
   ],
   "source": [
    "X_train, X_test, y_train, y_test = train_test_split(X, y, test_size=0.2, random_state=33, stratify=y)\n",
    "\n",
    "# fit on training set only\n",
    "scaler.fit(X_train)\n",
    "\n",
    "# apply transform to both the training set and the test set\n",
    "input_train = scaler.transform(X_train)\n",
    "input_test = scaler.transform(X_test)\n",
    "\n",
    "model_1 = model.fit(X_train, y_train)\n",
    "model_1_score = model.score(X_train, y_train)\n",
    "print(f'Accuracy score on training data: {model_1_score:.2f}')\n",
    "\n",
    "model_1_test_score = model.score(X_test, y_test)\n",
    "print(f'Accuracy score on test data: {model_1_test_score:.2f}')\n",
    "\n",
    "# find weighting of features\n",
    "weight = model.coef_\n",
    "# high = 0 and low = 1, so multiply weight by -1 to make more intuitive sense\n",
    "weight = weight * -1"
   ]
  },
  {
   "cell_type": "code",
   "execution_count": 19,
   "id": "e910b24b-69d9-4d04-b4f9-01c765b96132",
   "metadata": {},
   "outputs": [
    {
     "data": {
      "text/plain": [
       "{'start_OD': 0.6543382547037851,\n",
       " 'glycerol_start': -0.2667346641128121,\n",
       " 'propanoate_start': -0.4777659768930926,\n",
       " 'acetate_start': 0.10469557644695718,\n",
       " 'ethanol_start': 1.801729937636446}"
      ]
     },
     "execution_count": 19,
     "metadata": {},
     "output_type": "execute_result"
    }
   ],
   "source": [
    "d = dict(zip(X.columns.tolist(), weight[0].tolist()))\n",
    "d"
   ]
  },
  {
   "cell_type": "code",
   "execution_count": 20,
   "id": "cd6651d3",
   "metadata": {},
   "outputs": [
    {
     "data": {
      "text/plain": [
       "delta_acetate\n",
       "Low     18\n",
       "High    10\n",
       "Name: count, dtype: int64"
      ]
     },
     "execution_count": 20,
     "metadata": {},
     "output_type": "execute_result"
    }
   ],
   "source": [
    "y_pred = model.predict(X_test)\n",
    "y_test.value_counts()"
   ]
  },
  {
   "cell_type": "code",
   "execution_count": 21,
   "id": "e82f0ce3",
   "metadata": {},
   "outputs": [
    {
     "name": "stdout",
     "output_type": "stream",
     "text": [
      "              precision    recall  f1-score   support\n",
      "\n",
      "        High       0.62      1.00      0.77        10\n",
      "         Low       1.00      0.67      0.80        18\n",
      "\n",
      "    accuracy                           0.79        28\n",
      "   macro avg       0.81      0.83      0.78        28\n",
      "weighted avg       0.87      0.79      0.79        28\n",
      "\n"
     ]
    }
   ],
   "source": [
    "print(classification_report(y_test, y_pred))"
   ]
  },
  {
   "cell_type": "code",
   "execution_count": 22,
   "id": "063ed63d",
   "metadata": {},
   "outputs": [
    {
     "name": "stdout",
     "output_type": "stream",
     "text": [
      "p(0) = 0.53 \tp(1) = 0.47\n",
      "p(0) = 0.39 \tp(1) = 0.61\n",
      "p(0) = 0.73 \tp(1) = 0.27\n",
      "p(0) = 0.53 \tp(1) = 0.47\n",
      "p(0) = 0.00 \tp(1) = 1.00\n",
      "p(0) = 0.00 \tp(1) = 1.00\n",
      "p(0) = 0.39 \tp(1) = 0.61\n",
      "p(0) = 0.00 \tp(1) = 1.00\n",
      "p(0) = 0.79 \tp(1) = 0.21\n",
      "p(0) = 0.00 \tp(1) = 1.00\n",
      "p(0) = 0.68 \tp(1) = 0.32\n",
      "p(0) = 0.76 \tp(1) = 0.24\n",
      "p(0) = 0.01 \tp(1) = 0.99\n",
      "p(0) = 0.00 \tp(1) = 1.00\n",
      "p(0) = 0.79 \tp(1) = 0.21\n",
      "p(0) = 0.79 \tp(1) = 0.21\n",
      "p(0) = 0.72 \tp(1) = 0.28\n",
      "p(0) = 0.73 \tp(1) = 0.27\n",
      "p(0) = 0.84 \tp(1) = 0.16\n",
      "p(0) = 0.74 \tp(1) = 0.26\n",
      "p(0) = 0.84 \tp(1) = 0.16\n",
      "p(0) = 0.00 \tp(1) = 1.00\n",
      "p(0) = 0.52 \tp(1) = 0.48\n",
      "p(0) = 0.71 \tp(1) = 0.29\n",
      "p(0) = 0.00 \tp(1) = 1.00\n",
      "p(0) = 0.71 \tp(1) = 0.29\n",
      "p(0) = 0.00 \tp(1) = 1.00\n",
      "p(0) = 0.00 \tp(1) = 1.00\n"
     ]
    }
   ],
   "source": [
    "for p0, p1 in model.predict_proba(X_test):\n",
    "    print(f\"p(0) = {p0:.2f} \\tp(1) = {p1:.2f}\")"
   ]
  },
  {
   "cell_type": "code",
   "execution_count": 26,
   "id": "e8ce3c0d",
   "metadata": {},
   "outputs": [
    {
     "data": {
      "image/png": "[encoded data removed]",
      "text/plain": [
       "<Figure size 640x480 with 2 Axes>"
      ]
     },
     "metadata": {},
     "output_type": "display_data"
    }
   ],
   "source": [
    "confusion_matrix = metrics.confusion_matrix(y_test, y_pred, labels=model.classes_)\n",
    "cm_display = metrics.ConfusionMatrixDisplay(confusion_matrix = confusion_matrix, display_labels=model.classes_)\n",
    "cm_display.plot()\n",
    "plt.show()"
   ]
  },
  {
   "cell_type": "code",
   "execution_count": null,
   "id": "4d09f519",
   "metadata": {},
   "outputs": [],
   "source": []
  }
 ],
 "metadata": {
  "kernelspec": {
   "display_name": "Python 3 (ipykernel)",
   "language": "python",
   "name": "python3"
  },
  "language_info": {
   "codemirror_mode": {
    "name": "ipython",
    "version": 3
   },
   "file_extension": ".py",
   "mimetype": "text/x-python",
   "name": "python",
   "nbconvert_exporter": "python",
   "pygments_lexer": "ipython3",
   "version": "3.12.3"
  }
 },
 "nbformat": 4,
 "nbformat_minor": 5
}
